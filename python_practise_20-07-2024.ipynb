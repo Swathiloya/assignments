{
 "cells": [
  {
   "cell_type": "code",
   "execution_count": 1,
   "id": "8337bdff",
   "metadata": {},
   "outputs": [],
   "source": [
    "#-------------------------------->1.list"
   ]
  },
  {
   "cell_type": "code",
   "execution_count": 2,
   "id": "f1297583",
   "metadata": {},
   "outputs": [],
   "source": [
    "#1. Create a list (friend_names) with your friend names (10 names)?"
   ]
  },
  {
   "cell_type": "code",
   "execution_count": 3,
   "id": "4de3b25b",
   "metadata": {},
   "outputs": [],
   "source": [
    "list=[\"anitha\",\"vanaja\",\"prasanna\",\"sivadevi\",\"vanitha\",\"anusha\",\"poojitha\",\"sruthi\",\"mamaatha\",\"manasa\"]"
   ]
  },
  {
   "cell_type": "code",
   "execution_count": 4,
   "id": "412607cb",
   "metadata": {},
   "outputs": [
    {
     "name": "stdout",
     "output_type": "stream",
     "text": [
      "['anitha', 'vanaja', 'prasanna', 'sivadevi', 'vanitha', 'anusha', 'poojitha', 'sruthi', 'mamaatha', 'manasa']\n"
     ]
    }
   ],
   "source": [
    "print(list)"
   ]
  },
  {
   "cell_type": "code",
   "execution_count": 5,
   "id": "404c160e",
   "metadata": {},
   "outputs": [],
   "source": [
    "#------------------------------->2.tupie"
   ]
  },
  {
   "cell_type": "code",
   "execution_count": 6,
   "id": "da696efc",
   "metadata": {},
   "outputs": [],
   "source": [
    "#2. Create a tuple (family_members) with your family members?"
   ]
  },
  {
   "cell_type": "code",
   "execution_count": 7,
   "id": "df14acb6",
   "metadata": {},
   "outputs": [],
   "source": [
    "tuple=(\"venkataraju\",\"dhanalakshmi\",\"gopalakrishna\",\"dasaradharamayya\",\"nagedhramma\",\"bhogiraju\",\"nagajyothi\",\"lakshamana\",\"umadevi\",\"poojitha\")"
   ]
  },
  {
   "cell_type": "code",
   "execution_count": 8,
   "id": "521d18db",
   "metadata": {},
   "outputs": [
    {
     "name": "stdout",
     "output_type": "stream",
     "text": [
      "('venkataraju', 'dhanalakshmi', 'gopalakrishna', 'dasaradharamayya', 'nagedhramma', 'bhogiraju', 'nagajyothi', 'lakshamana', 'umadevi', 'poojitha')\n"
     ]
    }
   ],
   "source": [
    "print(tuple)"
   ]
  },
  {
   "cell_type": "code",
   "execution_count": 9,
   "id": "ab6052ce",
   "metadata": {},
   "outputs": [],
   "source": [
    "#------------------------------>3.set"
   ]
  },
  {
   "cell_type": "code",
   "execution_count": 10,
   "id": "5a7a9836",
   "metadata": {},
   "outputs": [],
   "source": [
    "#3. Create a set (colours) with colour names(10 names)?"
   ]
  },
  {
   "cell_type": "code",
   "execution_count": 11,
   "id": "f4b67adb",
   "metadata": {},
   "outputs": [],
   "source": [
    "set={\"white\",\"yellow\",\"black\",\"red\",\"orange\",\"brown\",\"blue\",\"pink\",\"green\",\"grey\"}"
   ]
  },
  {
   "cell_type": "code",
   "execution_count": 12,
   "id": "69940a53",
   "metadata": {},
   "outputs": [
    {
     "name": "stdout",
     "output_type": "stream",
     "text": [
      "{'yellow', 'orange', 'green', 'grey', 'red', 'white', 'black', 'blue', 'pink', 'brown'}\n"
     ]
    }
   ],
   "source": [
    "print(set)"
   ]
  },
  {
   "cell_type": "code",
   "execution_count": 13,
   "id": "4e1b17e1",
   "metadata": {},
   "outputs": [],
   "source": [
    "#4. month_names=[1,9,10,5,3,2,7,8,6,4] , sort the list--> write a program?"
   ]
  },
  {
   "cell_type": "code",
   "execution_count": 14,
   "id": "e649450d",
   "metadata": {},
   "outputs": [],
   "source": [
    "set={1,9,10,5,3,2,7,8,6,4}"
   ]
  },
  {
   "cell_type": "code",
   "execution_count": 15,
   "id": "8aac3fb9",
   "metadata": {
    "scrolled": true
   },
   "outputs": [
    {
     "name": "stdout",
     "output_type": "stream",
     "text": [
      "{1, 2, 3, 4, 5, 6, 7, 8, 9, 10}\n"
     ]
    }
   ],
   "source": [
    "print(set)"
   ]
  },
  {
   "cell_type": "code",
   "execution_count": 16,
   "id": "2a217103",
   "metadata": {},
   "outputs": [],
   "source": [
    "#------------------------------>4.Dictionary "
   ]
  },
  {
   "cell_type": "code",
   "execution_count": 17,
   "id": "8708c92b",
   "metadata": {},
   "outputs": [],
   "source": [
    "#5. Create a dict with your family members(at least 10 names)?"
   ]
  },
  {
   "cell_type": "code",
   "execution_count": 18,
   "id": "81dd65ca",
   "metadata": {},
   "outputs": [],
   "source": [
    "dict={\"family members\":[\"venkataraju\",\"dhanalakshmi\",\"gopalakrishna\",\"dasaradharamayya\",\"nagedhramma\",\"bhogiraju\",\"nagajyothi\",\"lakshamana\",\"umadevi\",\"poojitha\"]}"
   ]
  },
  {
   "cell_type": "code",
   "execution_count": 19,
   "id": "4bc33e84",
   "metadata": {},
   "outputs": [
    {
     "name": "stdout",
     "output_type": "stream",
     "text": [
      "{'family members': ['venkataraju', 'dhanalakshmi', 'gopalakrishna', 'dasaradharamayya', 'nagedhramma', 'bhogiraju', 'nagajyothi', 'lakshamana', 'umadevi', 'poojitha']}\n"
     ]
    }
   ],
   "source": [
    "print(dict)"
   ]
  },
  {
   "cell_type": "code",
   "execution_count": 20,
   "id": "619f778b",
   "metadata": {},
   "outputs": [],
   "source": [
    "dict={\"family members\":[\"venkataraju\",\"dhanalakshmi\",\"gopalakrishna\",\"dasaradharamayya\",\"nagedhramma\",\"bhogiraju\",\"nagajyothi\",\"lakshamana\",\"umadevi\",\"poojitha\"],\"relation\":[\"father\",\"mother\",\"brother\",\"grandfather\",\"grandmother\",\"brother-in-law\",\"sister\",\"uncel\",\"unt\",\"sister\"]}"
   ]
  },
  {
   "cell_type": "code",
   "execution_count": 21,
   "id": "249eaea8",
   "metadata": {},
   "outputs": [
    {
     "name": "stdout",
     "output_type": "stream",
     "text": [
      "{'family members': ['venkataraju', 'dhanalakshmi', 'gopalakrishna', 'dasaradharamayya', 'nagedhramma', 'bhogiraju', 'nagajyothi', 'lakshamana', 'umadevi', 'poojitha'], 'relation': ['father', 'mother', 'brother', 'grandfather', 'grandmother', 'brother-in-law', 'sister', 'uncel', 'unt', 'sister']}\n"
     ]
    }
   ],
   "source": [
    "print(dict)"
   ]
  },
  {
   "cell_type": "code",
   "execution_count": 22,
   "id": "ff23b0e4",
   "metadata": {},
   "outputs": [
    {
     "data": {
      "text/html": [
       "<div>\n",
       "<style scoped>\n",
       "    .dataframe tbody tr th:only-of-type {\n",
       "        vertical-align: middle;\n",
       "    }\n",
       "\n",
       "    .dataframe tbody tr th {\n",
       "        vertical-align: top;\n",
       "    }\n",
       "\n",
       "    .dataframe thead th {\n",
       "        text-align: right;\n",
       "    }\n",
       "</style>\n",
       "<table border=\"1\" class=\"dataframe\">\n",
       "  <thead>\n",
       "    <tr style=\"text-align: right;\">\n",
       "      <th></th>\n",
       "      <th>family members</th>\n",
       "      <th>relation</th>\n",
       "    </tr>\n",
       "  </thead>\n",
       "  <tbody>\n",
       "    <tr>\n",
       "      <th>0</th>\n",
       "      <td>venkataraju</td>\n",
       "      <td>father</td>\n",
       "    </tr>\n",
       "    <tr>\n",
       "      <th>1</th>\n",
       "      <td>dhanalakshmi</td>\n",
       "      <td>mother</td>\n",
       "    </tr>\n",
       "    <tr>\n",
       "      <th>2</th>\n",
       "      <td>gopalakrishna</td>\n",
       "      <td>brother</td>\n",
       "    </tr>\n",
       "    <tr>\n",
       "      <th>3</th>\n",
       "      <td>dasaradharamayya</td>\n",
       "      <td>grandfather</td>\n",
       "    </tr>\n",
       "    <tr>\n",
       "      <th>4</th>\n",
       "      <td>nagedhramma</td>\n",
       "      <td>grandmother</td>\n",
       "    </tr>\n",
       "    <tr>\n",
       "      <th>5</th>\n",
       "      <td>bhogiraju</td>\n",
       "      <td>brother-in-law</td>\n",
       "    </tr>\n",
       "    <tr>\n",
       "      <th>6</th>\n",
       "      <td>nagajyothi</td>\n",
       "      <td>sister</td>\n",
       "    </tr>\n",
       "    <tr>\n",
       "      <th>7</th>\n",
       "      <td>lakshamana</td>\n",
       "      <td>uncel</td>\n",
       "    </tr>\n",
       "    <tr>\n",
       "      <th>8</th>\n",
       "      <td>umadevi</td>\n",
       "      <td>unt</td>\n",
       "    </tr>\n",
       "    <tr>\n",
       "      <th>9</th>\n",
       "      <td>poojitha</td>\n",
       "      <td>sister</td>\n",
       "    </tr>\n",
       "  </tbody>\n",
       "</table>\n",
       "</div>"
      ],
      "text/plain": [
       "     family members        relation\n",
       "0       venkataraju          father\n",
       "1      dhanalakshmi          mother\n",
       "2     gopalakrishna         brother\n",
       "3  dasaradharamayya     grandfather\n",
       "4       nagedhramma     grandmother\n",
       "5         bhogiraju  brother-in-law\n",
       "6        nagajyothi          sister\n",
       "7        lakshamana           uncel\n",
       "8           umadevi             unt\n",
       "9          poojitha          sister"
      ]
     },
     "execution_count": 22,
     "metadata": {},
     "output_type": "execute_result"
    }
   ],
   "source": [
    "import pandas as pd\n",
    "df=pd.DataFrame(dict)\n",
    "df"
   ]
  },
  {
   "cell_type": "code",
   "execution_count": 23,
   "id": "d9c819d7",
   "metadata": {},
   "outputs": [
    {
     "data": {
      "text/plain": [
       "Index(['family members', 'relation'], dtype='object')"
      ]
     },
     "execution_count": 23,
     "metadata": {},
     "output_type": "execute_result"
    }
   ],
   "source": [
    "df.keys()"
   ]
  },
  {
   "cell_type": "code",
   "execution_count": 24,
   "id": "eb013ffa",
   "metadata": {},
   "outputs": [],
   "source": [
    "#------------------------->5.slicing"
   ]
  },
  {
   "cell_type": "code",
   "execution_count": 25,
   "id": "91280643",
   "metadata": {},
   "outputs": [
    {
     "data": {
      "text/plain": [
       "'venkataraju'"
      ]
     },
     "execution_count": 25,
     "metadata": {},
     "output_type": "execute_result"
    }
   ],
   "source": [
    "df[\"family members\"][0]"
   ]
  },
  {
   "cell_type": "code",
   "execution_count": 26,
   "id": "0b477573",
   "metadata": {},
   "outputs": [
    {
     "data": {
      "text/plain": [
       "'sister'"
      ]
     },
     "execution_count": 26,
     "metadata": {},
     "output_type": "execute_result"
    }
   ],
   "source": [
    "df[\"relation\"][9]"
   ]
  },
  {
   "cell_type": "code",
   "execution_count": 27,
   "id": "477beeda",
   "metadata": {},
   "outputs": [
    {
     "data": {
      "text/plain": [
       "'gopalakrishna'"
      ]
     },
     "execution_count": 27,
     "metadata": {},
     "output_type": "execute_result"
    }
   ],
   "source": [
    "df[\"family members\"][2]"
   ]
  },
  {
   "cell_type": "code",
   "execution_count": 28,
   "id": "9e57f33e",
   "metadata": {},
   "outputs": [
    {
     "data": {
      "text/plain": [
       "'lakshamana'"
      ]
     },
     "execution_count": 28,
     "metadata": {},
     "output_type": "execute_result"
    }
   ],
   "source": [
    "df[\"family members\"][7]"
   ]
  },
  {
   "cell_type": "code",
   "execution_count": 29,
   "id": "6748f244",
   "metadata": {},
   "outputs": [
    {
     "data": {
      "text/plain": [
       "'grandfather'"
      ]
     },
     "execution_count": 29,
     "metadata": {},
     "output_type": "execute_result"
    }
   ],
   "source": [
    "df[\"relation\"][3]"
   ]
  },
  {
   "cell_type": "code",
   "execution_count": 30,
   "id": "f1890a4c",
   "metadata": {},
   "outputs": [
    {
     "data": {
      "text/plain": [
       "0         venkataraju\n",
       "1        dhanalakshmi\n",
       "2       gopalakrishna\n",
       "3    dasaradharamayya\n",
       "4         nagedhramma\n",
       "Name: family members, dtype: object"
      ]
     },
     "execution_count": 30,
     "metadata": {},
     "output_type": "execute_result"
    }
   ],
   "source": [
    "df[\"family members\"][0:5]"
   ]
  },
  {
   "cell_type": "code",
   "execution_count": 31,
   "id": "db523dcd",
   "metadata": {},
   "outputs": [
    {
     "data": {
      "text/plain": [
       "0         venkataraju\n",
       "1        dhanalakshmi\n",
       "2       gopalakrishna\n",
       "3    dasaradharamayya\n",
       "4         nagedhramma\n",
       "5           bhogiraju\n",
       "6          nagajyothi\n",
       "7          lakshamana\n",
       "8             umadevi\n",
       "9            poojitha\n",
       "Name: family members, dtype: object"
      ]
     },
     "execution_count": 31,
     "metadata": {},
     "output_type": "execute_result"
    }
   ],
   "source": [
    "df[\"family members\"][0:10]"
   ]
  },
  {
   "cell_type": "code",
   "execution_count": 32,
   "id": "9bd422a4",
   "metadata": {},
   "outputs": [
    {
     "data": {
      "text/plain": [
       "0         father\n",
       "1         mother\n",
       "2        brother\n",
       "3    grandfather\n",
       "Name: relation, dtype: object"
      ]
     },
     "execution_count": 32,
     "metadata": {},
     "output_type": "execute_result"
    }
   ],
   "source": [
    "df[\"relation\"][:-6]"
   ]
  },
  {
   "cell_type": "code",
   "execution_count": 33,
   "id": "90f9d6aa",
   "metadata": {},
   "outputs": [
    {
     "data": {
      "text/plain": [
       "0            father\n",
       "1            mother\n",
       "2           brother\n",
       "3       grandfather\n",
       "4       grandmother\n",
       "5    brother-in-law\n",
       "6            sister\n",
       "7             uncel\n",
       "8               unt\n",
       "9            sister\n",
       "Name: relation, dtype: object"
      ]
     },
     "execution_count": 33,
     "metadata": {},
     "output_type": "execute_result"
    }
   ],
   "source": [
    "df[\"relation\"][0:10]"
   ]
  },
  {
   "cell_type": "code",
   "execution_count": 34,
   "id": "c2a5f94b",
   "metadata": {},
   "outputs": [],
   "source": [
    "#------------------------->6.conditions"
   ]
  },
  {
   "cell_type": "code",
   "execution_count": 35,
   "id": "393c11bc",
   "metadata": {},
   "outputs": [
    {
     "data": {
      "text/plain": [
       "1.0"
      ]
     },
     "execution_count": 35,
     "metadata": {},
     "output_type": "execute_result"
    }
   ],
   "source": [
    "1.#Write a program,  my age is more than 20 print teen_age other wise print younge_age?\n",
    "#a.my_age is 20, who am i? Expected output: you are teen_age\n",
    "#b.my_age is 30, who am i? Expected output: you are younge_age\n",
    "#c.my_age is 10, who am i? \n",
    "#d.my_age is 40, who am i? "
   ]
  },
  {
   "cell_type": "code",
   "execution_count": 36,
   "id": "bdf97fcd",
   "metadata": {},
   "outputs": [
    {
     "name": "stdout",
     "output_type": "stream",
     "text": [
      "you are teen_age\n"
     ]
    }
   ],
   "source": [
    "my_age=21\n",
    "if my_age>20:\n",
    "    print(\"you are teen_age\")\n",
    "else:\n",
    "    print(\"you are younge_age\")"
   ]
  },
  {
   "cell_type": "code",
   "execution_count": 37,
   "id": "e98acc4e",
   "metadata": {},
   "outputs": [
    {
     "name": "stdout",
     "output_type": "stream",
     "text": [
      "you are teen_age\n"
     ]
    }
   ],
   "source": [
    "my_age=30\n",
    "if my_age>20:\n",
    "    print(\"you are teen_age\")\n",
    "else:\n",
    "    print(\"you are younge_age\")"
   ]
  },
  {
   "cell_type": "code",
   "execution_count": 38,
   "id": "6130fe01",
   "metadata": {},
   "outputs": [
    {
     "name": "stdout",
     "output_type": "stream",
     "text": [
      "you are younge_age\n"
     ]
    }
   ],
   "source": [
    "my_age=10\n",
    "if my_age>20:\n",
    "    print(\"you are teen_age\")\n",
    "else:\n",
    "    print(\"you are younge_age\")"
   ]
  },
  {
   "cell_type": "code",
   "execution_count": 39,
   "id": "ede880cf",
   "metadata": {},
   "outputs": [
    {
     "name": "stdout",
     "output_type": "stream",
     "text": [
      "you are teen_age\n"
     ]
    }
   ],
   "source": [
    "my_age=40\n",
    "if my_age>20:\n",
    "    print(\"you are teen_age\")\n",
    "else:\n",
    "    print(\"you are younge_age\")"
   ]
  },
  {
   "cell_type": "code",
   "execution_count": 40,
   "id": "ee07e688",
   "metadata": {},
   "outputs": [],
   "source": [
    "#2.Write a program today is Monday/Tuesday/Wendsday/Thursday/Friday print weekday otherwise print weekend?"
   ]
  },
  {
   "cell_type": "code",
   "execution_count": 51,
   "id": "9c07f070",
   "metadata": {},
   "outputs": [
    {
     "name": "stdout",
     "output_type": "stream",
     "text": [
      "weekday\n"
     ]
    }
   ],
   "source": [
    "today=\"monday\"\n",
    "if today==\"monday\":\n",
    "    print(\"weekday\")\n",
    "elif today==\"Tuesday\":\n",
    "    print(\"weekday\")  \n",
    "elif today==\"Wendsday\":\n",
    "    print(\"weekday\")         \n",
    "elif today==\"Thursday\":\n",
    "    print(\"weekday\")         \n",
    "elif today==\"Friday\":\n",
    "    print(\"weekday\")         \n",
    "else:\n",
    "    print(\"weekend\")         "
   ]
  },
  {
   "cell_type": "code",
   "execution_count": null,
   "id": "7b59323a",
   "metadata": {},
   "outputs": [],
   "source": [
    "#Task_3:\n",
    "\n",
    "#Scenario1: Today my business income is 10/- if my income is more than 10/- then print \"i am profitable\" otherwise print \"i lost\"\n",
    "#ఈ రోజు నా ఆదాయం 10. నా ఆదాయం 10 కంటే ఎక్కువ ఉంటే ప్రింట్ నేను లాభదాయకంగా ఉన్నాను లేకపోతే నేను పోగొట్టుకున్నాను.\n",
    "\n"
   ]
  },
  {
   "cell_type": "code",
   "execution_count": null,
   "id": "366797ef",
   "metadata": {},
   "outputs": [],
   "source": []
  },
  {
   "cell_type": "code",
   "execution_count": null,
   "id": "230ac213",
   "metadata": {},
   "outputs": [],
   "source": []
  },
  {
   "cell_type": "code",
   "execution_count": null,
   "id": "d401fe23",
   "metadata": {},
   "outputs": [],
   "source": []
  },
  {
   "cell_type": "code",
   "execution_count": null,
   "id": "6c94778b",
   "metadata": {},
   "outputs": [],
   "source": []
  },
  {
   "cell_type": "code",
   "execution_count": null,
   "id": "c222368b",
   "metadata": {},
   "outputs": [],
   "source": []
  },
  {
   "cell_type": "code",
   "execution_count": null,
   "id": "d9b1cdbb",
   "metadata": {},
   "outputs": [],
   "source": []
  },
  {
   "cell_type": "code",
   "execution_count": null,
   "id": "312932bd",
   "metadata": {},
   "outputs": [],
   "source": []
  }
 ],
 "metadata": {
  "kernelspec": {
   "display_name": "Python 3 (ipykernel)",
   "language": "python",
   "name": "python3"
  },
  "language_info": {
   "codemirror_mode": {
    "name": "ipython",
    "version": 3
   },
   "file_extension": ".py",
   "mimetype": "text/x-python",
   "name": "python",
   "nbconvert_exporter": "python",
   "pygments_lexer": "ipython3",
   "version": "3.10.9"
  }
 },
 "nbformat": 4,
 "nbformat_minor": 5
}
