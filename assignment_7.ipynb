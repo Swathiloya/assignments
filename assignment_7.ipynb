{
 "cells": [
  {
   "cell_type": "code",
   "execution_count": null,
   "id": "ac974bd0",
   "metadata": {},
   "outputs": [],
   "source": [
    "#Scenario1:\n",
    "#credit card offer.\n",
    "# if your salary is less than 10000.  credit limit 10 times of your salary. \n",
    "# if your salary is 10000 to 30000.  Credit limit is 20 time of your salary.\n",
    "# if your salary is more than 30000.  Credit limit is 30 times of your salary."
   ]
  },
  {
   "cell_type": "code",
   "execution_count": 17,
   "id": "cc92c537",
   "metadata": {},
   "outputs": [],
   "source": [
    "def credit_card_offer(salary):\n",
    "    if  salary<=10000:\n",
    "        credit_limit=salary*10\n",
    "    elif salary>=10000 and salary<=30000:\n",
    "        credit_limit=salary*20\n",
    "    elif salary>=30000:\n",
    "        credit_limit=salary*30\n",
    "    return credit_limit           "
   ]
  },
  {
   "cell_type": "code",
   "execution_count": 20,
   "id": "40242907",
   "metadata": {},
   "outputs": [
    {
     "data": {
      "text/plain": [
       "90000"
      ]
     },
     "execution_count": 20,
     "metadata": {},
     "output_type": "execute_result"
    }
   ],
   "source": [
    "credit_card_offer(9000)"
   ]
  },
  {
   "cell_type": "code",
   "execution_count": 21,
   "id": "784cc67e",
   "metadata": {},
   "outputs": [
    {
     "data": {
      "text/plain": [
       "400000"
      ]
     },
     "execution_count": 21,
     "metadata": {},
     "output_type": "execute_result"
    }
   ],
   "source": [
    "credit_card_offer(20000)"
   ]
  },
  {
   "cell_type": "code",
   "execution_count": 22,
   "id": "2fdfd5e2",
   "metadata": {},
   "outputs": [
    {
     "data": {
      "text/plain": [
       "1200000"
      ]
     },
     "execution_count": 22,
     "metadata": {},
     "output_type": "execute_result"
    }
   ],
   "source": [
    "credit_card_offer(40000)"
   ]
  },
  {
   "cell_type": "code",
   "execution_count": null,
   "id": "79c1bc4c",
   "metadata": {},
   "outputs": [],
   "source": [
    "# Scenario2:\n",
    "# DMart discount offer. \n",
    "# if your purchase amount is less than 20000. discount is 20%.\n",
    "#if your purchase amount is 20000 to 40000. discount is 30%. \n",
    "#if your purchase amount is more than 50000. discount is 40%."
   ]
  },
  {
   "cell_type": "code",
   "execution_count": 29,
   "id": "3d19c76d",
   "metadata": {},
   "outputs": [],
   "source": [
    "def DMart_discount_offer(purchase):\n",
    "    if purchase<20000:\n",
    "        discount=purchase*.20\n",
    "    elif purchase>=20000 and purchase<=40000:\n",
    "        discount=purchase*.30\n",
    "    elif purchase>50000:\n",
    "        discount=purchase*.40\n",
    "    return discount"
   ]
  },
  {
   "cell_type": "code",
   "execution_count": 30,
   "id": "dd19695c",
   "metadata": {},
   "outputs": [
    {
     "data": {
      "text/plain": [
       "2000.0"
      ]
     },
     "execution_count": 30,
     "metadata": {},
     "output_type": "execute_result"
    }
   ],
   "source": [
    "DMart_discount_offer(10000)"
   ]
  },
  {
   "cell_type": "code",
   "execution_count": 31,
   "id": "a9958535",
   "metadata": {},
   "outputs": [
    {
     "data": {
      "text/plain": [
       "9000.0"
      ]
     },
     "execution_count": 31,
     "metadata": {},
     "output_type": "execute_result"
    }
   ],
   "source": [
    "DMart_discount_offer(30000)"
   ]
  },
  {
   "cell_type": "code",
   "execution_count": 32,
   "id": "4c9bc695",
   "metadata": {},
   "outputs": [
    {
     "data": {
      "text/plain": [
       "24000.0"
      ]
     },
     "execution_count": 32,
     "metadata": {},
     "output_type": "execute_result"
    }
   ],
   "source": [
    "DMart_discount_offer(60000)"
   ]
  },
  {
   "cell_type": "code",
   "execution_count": null,
   "id": "d2d25bfb",
   "metadata": {},
   "outputs": [],
   "source": [
    "#Scenario3:\n",
    "#Amazom online offer. \n",
    "#if product is electoric type then 20% discount. \n",
    "#if product is cloth type then 30% discount. \n",
    "#if product is footware then 40% discount."
   ]
  },
  {
   "cell_type": "code",
   "execution_count": 70,
   "id": "07236d43",
   "metadata": {},
   "outputs": [],
   "source": [
    "def Amazom_online_offer(product):\n",
    "    if product==\"electoric\":\n",
    "        discount=0.2\n",
    "    elif product==\"cloth\":\n",
    "        discount=0.3\n",
    "    elif product==\"footware\":\n",
    "        discount=0.4\n",
    "    return discount   "
   ]
  },
  {
   "cell_type": "code",
   "execution_count": 71,
   "id": "1e3e9981",
   "metadata": {},
   "outputs": [
    {
     "data": {
      "text/plain": [
       "0.2"
      ]
     },
     "execution_count": 71,
     "metadata": {},
     "output_type": "execute_result"
    }
   ],
   "source": [
    "Amazom_online_offer(\"electoric\")"
   ]
  },
  {
   "cell_type": "code",
   "execution_count": 72,
   "id": "bb35be2a",
   "metadata": {},
   "outputs": [
    {
     "data": {
      "text/plain": [
       "0.3"
      ]
     },
     "execution_count": 72,
     "metadata": {},
     "output_type": "execute_result"
    }
   ],
   "source": [
    "Amazom_online_offer(\"cloth\")"
   ]
  },
  {
   "cell_type": "code",
   "execution_count": 73,
   "id": "590883be",
   "metadata": {},
   "outputs": [
    {
     "data": {
      "text/plain": [
       "0.4"
      ]
     },
     "execution_count": 73,
     "metadata": {},
     "output_type": "execute_result"
    }
   ],
   "source": [
    "Amazom_online_offer(\"footware\")"
   ]
  },
  {
   "cell_type": "code",
   "execution_count": null,
   "id": "7444eb9f",
   "metadata": {},
   "outputs": [],
   "source": []
  },
  {
   "cell_type": "code",
   "execution_count": null,
   "id": "d281e4a2",
   "metadata": {},
   "outputs": [],
   "source": []
  }
 ],
 "metadata": {
  "kernelspec": {
   "display_name": "Python 3 (ipykernel)",
   "language": "python",
   "name": "python3"
  },
  "language_info": {
   "codemirror_mode": {
    "name": "ipython",
    "version": 3
   },
   "file_extension": ".py",
   "mimetype": "text/x-python",
   "name": "python",
   "nbconvert_exporter": "python",
   "pygments_lexer": "ipython3",
   "version": "3.10.9"
  }
 },
 "nbformat": 4,
 "nbformat_minor": 5
}
